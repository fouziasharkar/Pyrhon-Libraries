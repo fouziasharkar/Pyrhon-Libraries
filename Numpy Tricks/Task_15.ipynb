{
  "nbformat": 4,
  "nbformat_minor": 0,
  "metadata": {
    "colab": {
      "provenance": [],
      "authorship_tag": "ABX9TyNZ7MrzPKH7WeVSby3gxJy1",
      "include_colab_link": true
    },
    "kernelspec": {
      "name": "python3",
      "display_name": "Python 3"
    },
    "language_info": {
      "name": "python"
    }
  },
  "cells": [
    {
      "cell_type": "markdown",
      "metadata": {
        "id": "view-in-github",
        "colab_type": "text"
      },
      "source": [
        "<a href=\"https://colab.research.google.com/github/fouziasharkar/Python-Libraries/blob/main/Task_15.ipynb\" target=\"_parent\"><img src=\"https://colab.research.google.com/assets/colab-badge.svg\" alt=\"Open In Colab\"/></a>"
      ]
    },
    {
      "cell_type": "code",
      "execution_count": 1,
      "metadata": {
        "id": "Hi__yNehQFUG"
      },
      "outputs": [],
      "source": [
        "import numpy as np"
      ]
    },
    {
      "cell_type": "markdown",
      "source": [
        "###`Q-1:` Create a random 3x4 matrix with value between 0-100. And perform below tasks\n",
        "\n",
        "    i. Sort this matrix. np.sort()\n",
        "    ii. Sort this matrix based on values in 2nd column.\n",
        "    iii. Sort this matrix based on max value in each row.\n",
        "    iv. Sort based on elements value.\n"
      ],
      "metadata": {
        "id": "J88qfqQEk_sT"
      }
    },
    {
      "cell_type": "markdown",
      "source": [
        "See examples:\n",
        "```\n",
        "arr =\n",
        "    [[92 90 74]\n",
        "    [ 6 63 93]\n",
        "    [15 93 96]\n",
        "    [70 60 48]]\n",
        "```\n",
        "```\n",
        "i. np.sort\n",
        "[[74 90 92]\n",
        " [ 6 63 93]\n",
        " [15 93 96]\n",
        " [48 60 70]]\n",
        "\n",
        "ii. based on 2nd column\n",
        "[[70 60 48]\n",
        " [ 6 63 93]\n",
        " [92 90 74]\n",
        " [15 93 96]]\n",
        "\n",
        "iii. based on row max- ascending\n",
        "[[15 93 96]\n",
        " [ 6 63 93]\n",
        " [92 90 74]\n",
        " [70 60 48]]\n",
        "\n",
        "iv. based on elements value\n",
        "[[ 6 15 48]\n",
        " [60 63 70]\n",
        " [74 90 92]\n",
        " [93 93 96]]\n",
        "\n",
        "```"
      ],
      "metadata": {
        "id": "xpOwOdhqlE9R"
      }
    },
    {
      "cell_type": "code",
      "source": [
        "m = np.random.randint(0,100,12).reshape(4,3)\n",
        "m"
      ],
      "metadata": {
        "id": "Auy-guUwlALv",
        "colab": {
          "base_uri": "https://localhost:8080/"
        },
        "outputId": "c1c8865d-9499-400d-85ad-6c315476ffcc"
      },
      "execution_count": 2,
      "outputs": [
        {
          "output_type": "execute_result",
          "data": {
            "text/plain": [
              "array([[97, 61, 65],\n",
              "       [91, 87, 21],\n",
              "       [40, 22, 39],\n",
              "       [80, 91, 66]])"
            ]
          },
          "metadata": {},
          "execution_count": 2
        }
      ]
    },
    {
      "cell_type": "code",
      "source": [
        "#Sort this matrix. np.sort()\n",
        "np.sort(m)"
      ],
      "metadata": {
        "colab": {
          "base_uri": "https://localhost:8080/"
        },
        "id": "ZupiXSxuWiCw",
        "outputId": "565e8607-0e2e-49a4-b272-258f05763934"
      },
      "execution_count": 3,
      "outputs": [
        {
          "output_type": "execute_result",
          "data": {
            "text/plain": [
              "array([[61, 65, 97],\n",
              "       [21, 87, 91],\n",
              "       [22, 39, 40],\n",
              "       [66, 80, 91]])"
            ]
          },
          "metadata": {},
          "execution_count": 3
        }
      ]
    },
    {
      "cell_type": "code",
      "source": [
        "#Sort this matrix based on values in 2nd column.\n",
        "#argsort()\n",
        "#argsort gives the index value\n",
        "np.argsort(m)"
      ],
      "metadata": {
        "colab": {
          "base_uri": "https://localhost:8080/"
        },
        "id": "k3IUHQYEa9ww",
        "outputId": "2be57f85-1c50-47c4-e8ff-e8aedbad695a"
      },
      "execution_count": 4,
      "outputs": [
        {
          "output_type": "execute_result",
          "data": {
            "text/plain": [
              "array([[1, 2, 0],\n",
              "       [2, 1, 0],\n",
              "       [1, 2, 0],\n",
              "       [2, 0, 1]])"
            ]
          },
          "metadata": {},
          "execution_count": 4
        }
      ]
    },
    {
      "cell_type": "code",
      "source": [
        "m[m[:,1].argsort()]"
      ],
      "metadata": {
        "colab": {
          "base_uri": "https://localhost:8080/"
        },
        "id": "wcCXofkMWiFV",
        "outputId": "3b09fa39-f7f1-45a1-96ac-800f27b00923"
      },
      "execution_count": 5,
      "outputs": [
        {
          "output_type": "execute_result",
          "data": {
            "text/plain": [
              "array([[40, 22, 39],\n",
              "       [97, 61, 65],\n",
              "       [91, 87, 21],\n",
              "       [80, 91, 66]])"
            ]
          },
          "metadata": {},
          "execution_count": 5
        }
      ]
    },
    {
      "cell_type": "code",
      "source": [
        "#Sort this matrix based on max value in each row.\n",
        "sorted_matrix = sorted(m, key=lambda x: max(x))\n",
        "sorted_matrix"
      ],
      "metadata": {
        "colab": {
          "base_uri": "https://localhost:8080/"
        },
        "id": "cFNOmFrIWiIE",
        "outputId": "6e6306c3-0411-41d0-e1d7-5f1da1d73040"
      },
      "execution_count": 8,
      "outputs": [
        {
          "output_type": "execute_result",
          "data": {
            "text/plain": [
              "[array([40, 22, 39]),\n",
              " array([91, 87, 21]),\n",
              " array([80, 91, 66]),\n",
              " array([97, 61, 65])]"
            ]
          },
          "metadata": {},
          "execution_count": 8
        }
      ]
    },
    {
      "cell_type": "code",
      "source": [],
      "metadata": {
        "id": "-69gf44_WiKV"
      },
      "execution_count": null,
      "outputs": []
    },
    {
      "cell_type": "markdown",
      "source": [
        "###`Q-2:` There is an array of marks of 5 students in 4 subjects. Further you are asked to perform below task.\n",
        "    i. Add marks every student of an extra subject in the same array.\n",
        "    ii. Add two new students marks in respective 5 subjects.(one subject added in above task)\n",
        "    iii. Add extra column with sum of all subjects(5-subjects) marks\n",
        "    iv. Sort the array(non-ascending order) on total marks column--one added in above task. Show top 2 rows.\n",
        "\n",
        "Note: Change dimension of arrays during concatenation or appending if required."
      ],
      "metadata": {
        "id": "Jx_I3gx9lBay"
      }
    },
    {
      "cell_type": "markdown",
      "source": [
        "Given Array-\n",
        "```\n",
        "marks = [[13, 10,  9, 33],\n",
        "       [63, 46, 90, 42],\n",
        "       [39, 76, 13, 29],\n",
        "       [82,  9, 29, 78],\n",
        "       [67, 61, 59, 36]]\n",
        "\n",
        "extra_subject = [41, 87, 72, 36, 92]\n",
        "#Two extra students record-\n",
        "rec1 = [77, 83, 98, 95, 89]\n",
        "rec2 = [92, 71, 52, 61, 53]\n",
        "```"
      ],
      "metadata": {
        "id": "lXF-CE6ylNIw"
      }
    },
    {
      "cell_type": "markdown",
      "source": [
        "Reshape to Column Vector: .reshape(-1, 1)\n",
        "\n",
        "* The -1 in reshape means \"unspecified\" or \"as many as needed\". Here, it tells NumPy to automatically determine the number of rows based on the size of the array.\n",
        "*   The 1 specifies that the reshaped array should have one column.\n",
        "\n",
        "\n"
      ],
      "metadata": {
        "id": "zhBv2fkvgE56"
      }
    },
    {
      "cell_type": "code",
      "source": [
        "#Add marks every student of an extra subject in the same array.\n",
        "marks = np.array([[13, 10,  9, 33],\n",
        "       [63, 46, 90, 42],\n",
        "       [39, 76, 13, 29],\n",
        "       [82,  9, 29, 78],\n",
        "       [67, 61, 59, 36]])\n",
        "\n",
        "extra_subject = np.array([41, 87, 72, 36, 92]).reshape(-1,1)\n",
        "extra_subject"
      ],
      "metadata": {
        "id": "7YKsWO2olMkq",
        "colab": {
          "base_uri": "https://localhost:8080/"
        },
        "outputId": "9aa6f6c9-00f4-49dc-d54f-32a50974ff2e"
      },
      "execution_count": 29,
      "outputs": [
        {
          "output_type": "execute_result",
          "data": {
            "text/plain": [
              "array([[41],\n",
              "       [87],\n",
              "       [72],\n",
              "       [36],\n",
              "       [92]])"
            ]
          },
          "metadata": {},
          "execution_count": 29
        }
      ]
    },
    {
      "cell_type": "code",
      "source": [
        "five_subject=np.concatenate((marks,extra_subject),axis=1)\n",
        "five_subject\n"
      ],
      "metadata": {
        "colab": {
          "base_uri": "https://localhost:8080/"
        },
        "id": "XefIHZJAZbOO",
        "outputId": "d4e597a0-759d-4cce-98b3-16d1b9b5e556"
      },
      "execution_count": 39,
      "outputs": [
        {
          "output_type": "execute_result",
          "data": {
            "text/plain": [
              "array([[13, 10,  9, 33, 41],\n",
              "       [63, 46, 90, 42, 87],\n",
              "       [39, 76, 13, 29, 72],\n",
              "       [82,  9, 29, 78, 36],\n",
              "       [67, 61, 59, 36, 92]])"
            ]
          },
          "metadata": {},
          "execution_count": 39
        }
      ]
    },
    {
      "cell_type": "code",
      "source": [
        "#Add two new students marks in respective 5 subjects.(one subject added in above task)\n",
        "\n",
        "rec1 = np.array([77, 83, 98, 95, 89])\n",
        "rec2 = np.array([92, 71, 52, 61, 53])\n",
        "\n",
        "new=np.vstack((five_subject, rec1,rec2))\n",
        "new"
      ],
      "metadata": {
        "colab": {
          "base_uri": "https://localhost:8080/"
        },
        "id": "AcHWMaKuZbQ0",
        "outputId": "34ec14b3-a355-4bf4-c928-1414cd1b1ea0"
      },
      "execution_count": 42,
      "outputs": [
        {
          "output_type": "execute_result",
          "data": {
            "text/plain": [
              "array([[13, 10,  9, 33, 41],\n",
              "       [63, 46, 90, 42, 87],\n",
              "       [39, 76, 13, 29, 72],\n",
              "       [82,  9, 29, 78, 36],\n",
              "       [67, 61, 59, 36, 92],\n",
              "       [77, 83, 98, 95, 89],\n",
              "       [92, 71, 52, 61, 53]])"
            ]
          },
          "metadata": {},
          "execution_count": 42
        }
      ]
    },
    {
      "cell_type": "code",
      "source": [
        "#Add extra column with sum of all subjects(5-subjects) marks\n",
        "\n",
        "sum=np.sum(new,axis=1).reshape(-1,1)\n",
        "\n",
        "total=np.concatenate((new,sum),axis=1)\n",
        "total"
      ],
      "metadata": {
        "colab": {
          "base_uri": "https://localhost:8080/"
        },
        "id": "X9vTp_yKZbTK",
        "outputId": "1fd893fd-401c-4533-c756-8916257f508d"
      },
      "execution_count": 47,
      "outputs": [
        {
          "output_type": "execute_result",
          "data": {
            "text/plain": [
              "array([[ 13,  10,   9,  33,  41, 106],\n",
              "       [ 63,  46,  90,  42,  87, 328],\n",
              "       [ 39,  76,  13,  29,  72, 229],\n",
              "       [ 82,   9,  29,  78,  36, 234],\n",
              "       [ 67,  61,  59,  36,  92, 315],\n",
              "       [ 77,  83,  98,  95,  89, 442],\n",
              "       [ 92,  71,  52,  61,  53, 329]])"
            ]
          },
          "metadata": {},
          "execution_count": 47
        }
      ]
    },
    {
      "cell_type": "code",
      "source": [
        "#Sort the array(non-ascending order) on total marks column--one added in above task. Show top 2 rows."
      ],
      "metadata": {
        "id": "JVGuVKbKkncK"
      },
      "execution_count": null,
      "outputs": []
    },
    {
      "cell_type": "code",
      "source": [
        "total[np.argsort(total[:,5])]"
      ],
      "metadata": {
        "colab": {
          "base_uri": "https://localhost:8080/"
        },
        "id": "BA1ChaM9knhJ",
        "outputId": "8ef4c3b3-ed97-48c7-968b-b6d849f6a1eb"
      },
      "execution_count": 55,
      "outputs": [
        {
          "output_type": "execute_result",
          "data": {
            "text/plain": [
              "array([[ 13,  10,   9,  33,  41, 106],\n",
              "       [ 39,  76,  13,  29,  72, 229],\n",
              "       [ 82,   9,  29,  78,  36, 234],\n",
              "       [ 67,  61,  59,  36,  92, 315],\n",
              "       [ 63,  46,  90,  42,  87, 328],\n",
              "       [ 92,  71,  52,  61,  53, 329],\n",
              "       [ 77,  83,  98,  95,  89, 442]])"
            ]
          },
          "metadata": {},
          "execution_count": 55
        }
      ]
    },
    {
      "cell_type": "markdown",
      "source": [
        "###`Q-3:` Find unique arrays from a 2D array column wise and row wise.\n",
        "```\n",
        "arr = np.array([[1,2,3,3,1,1],\n",
        "                [0,9,1,2,8,8],\n",
        "                [1,2,3,8,8,8],\n",
        "                [1,2,3,3,1,1]])\n",
        "```\n",
        "Expected Result-\n",
        "```\n",
        "Row Wise\n",
        "[[0 9 1 2 8 8]\n",
        " [1 2 3 3 1 1]\n",
        " [1 2 3 8 8 8]]\n",
        "\n",
        "Col Wise\n",
        "[[1 1 2 3 3]\n",
        " [0 8 9 1 2]\n",
        " [1 8 2 3 8]\n",
        " [1 1 2 3 3]]\n",
        "```"
      ],
      "metadata": {
        "id": "VmOyK_8klRqR"
      }
    },
    {
      "cell_type": "code",
      "source": [
        "# code here"
      ],
      "metadata": {
        "id": "LJl10VQrlU5q"
      },
      "execution_count": null,
      "outputs": []
    },
    {
      "cell_type": "code",
      "source": [
        "arr = np.array([[1,2,3,3,1,1],\n",
        "                [0,9,1,2,8,8],\n",
        "                [1,2,3,8,8,8],\n",
        "                [1,2,3,3,1,1]])"
      ],
      "metadata": {
        "id": "F_Qinokknm7I"
      },
      "execution_count": 56,
      "outputs": []
    },
    {
      "cell_type": "code",
      "source": [
        "np.unique(arr,axis=0)"
      ],
      "metadata": {
        "colab": {
          "base_uri": "https://localhost:8080/"
        },
        "id": "69nUchcynm90",
        "outputId": "751608fd-4c82-47fc-eee8-655fa789ddff"
      },
      "execution_count": 58,
      "outputs": [
        {
          "output_type": "execute_result",
          "data": {
            "text/plain": [
              "array([[0, 9, 1, 2, 8, 8],\n",
              "       [1, 2, 3, 3, 1, 1],\n",
              "       [1, 2, 3, 8, 8, 8]])"
            ]
          },
          "metadata": {},
          "execution_count": 58
        }
      ]
    },
    {
      "cell_type": "code",
      "source": [
        "np.unique(arr,axis=1)"
      ],
      "metadata": {
        "colab": {
          "base_uri": "https://localhost:8080/"
        },
        "id": "XKbuPrbZnnAh",
        "outputId": "d8eabc4a-f078-458b-b280-2e963eae659c"
      },
      "execution_count": 59,
      "outputs": [
        {
          "output_type": "execute_result",
          "data": {
            "text/plain": [
              "array([[1, 1, 2, 3, 3],\n",
              "       [0, 8, 9, 1, 2],\n",
              "       [1, 8, 2, 3, 8],\n",
              "       [1, 1, 2, 3, 3]])"
            ]
          },
          "metadata": {},
          "execution_count": 59
        }
      ]
    },
    {
      "cell_type": "markdown",
      "source": [
        "###`Q-4:` Flip given 2-D array along both axes at the same time."
      ],
      "metadata": {
        "id": "RaXwVkywlWY2"
      }
    },
    {
      "cell_type": "code",
      "source": [
        "total"
      ],
      "metadata": {
        "id": "mN7-4G8Kleeq",
        "colab": {
          "base_uri": "https://localhost:8080/"
        },
        "outputId": "17cd4f9c-41b1-49ce-b11c-cc6683580dfc"
      },
      "execution_count": 64,
      "outputs": [
        {
          "output_type": "execute_result",
          "data": {
            "text/plain": [
              "array([[ 13,  10,   9,  33,  41, 106],\n",
              "       [ 63,  46,  90,  42,  87, 328],\n",
              "       [ 39,  76,  13,  29,  72, 229],\n",
              "       [ 82,   9,  29,  78,  36, 234],\n",
              "       [ 67,  61,  59,  36,  92, 315],\n",
              "       [ 77,  83,  98,  95,  89, 442],\n",
              "       [ 92,  71,  52,  61,  53, 329]])"
            ]
          },
          "metadata": {},
          "execution_count": 64
        }
      ]
    },
    {
      "cell_type": "code",
      "source": [
        "np.flip(total,axis=[0,1])"
      ],
      "metadata": {
        "colab": {
          "base_uri": "https://localhost:8080/"
        },
        "id": "_zr0ks7Go8fp",
        "outputId": "461db549-7f7c-4d55-9693-ed02a77916ed"
      },
      "execution_count": 67,
      "outputs": [
        {
          "output_type": "execute_result",
          "data": {
            "text/plain": [
              "array([[329,  53,  61,  52,  71,  92],\n",
              "       [442,  89,  95,  98,  83,  77],\n",
              "       [315,  92,  36,  59,  61,  67],\n",
              "       [234,  36,  78,  29,   9,  82],\n",
              "       [229,  72,  29,  13,  76,  39],\n",
              "       [328,  87,  42,  90,  46,  63],\n",
              "       [106,  41,  33,   9,  10,  13]])"
            ]
          },
          "metadata": {},
          "execution_count": 67
        }
      ]
    },
    {
      "cell_type": "code",
      "source": [],
      "metadata": {
        "id": "yGjRFA4vo8iF"
      },
      "execution_count": null,
      "outputs": []
    },
    {
      "cell_type": "markdown",
      "source": [
        "### `Q-5:` Get row numbers of NumPy array having element larger than X.\n",
        "```\n",
        "arr = [[1,2,3,4,5],\n",
        "      [10,-3,30,4,5],\n",
        "      [3,2,5,-4,5],\n",
        "      [9,7,3,6,5]]\n",
        "\n",
        "X = 6\n",
        "```"
      ],
      "metadata": {
        "id": "X0S7BUNTlfoq"
      }
    },
    {
      "cell_type": "code",
      "source": [
        "arr = np.array([[1,2,3,4,5],\n",
        "      [10,-3,30,4,5],\n",
        "      [3,2,5,-4,5],\n",
        "      [9,7,3,6,5]])\n",
        "\n",
        "X = 6\n",
        "arr"
      ],
      "metadata": {
        "id": "bi8jRmWhlkBU",
        "colab": {
          "base_uri": "https://localhost:8080/"
        },
        "outputId": "06bd4051-9235-4d34-d1f7-24ac01663c7b"
      },
      "execution_count": 73,
      "outputs": [
        {
          "output_type": "execute_result",
          "data": {
            "text/plain": [
              "array([[ 1,  2,  3,  4,  5],\n",
              "       [10, -3, 30,  4,  5],\n",
              "       [ 3,  2,  5, -4,  5],\n",
              "       [ 9,  7,  3,  6,  5]])"
            ]
          },
          "metadata": {},
          "execution_count": 73
        }
      ]
    },
    {
      "cell_type": "code",
      "source": [
        "row,col=np.where(arr>X)\n",
        "print(row)\n",
        "np.unique(row)"
      ],
      "metadata": {
        "colab": {
          "base_uri": "https://localhost:8080/"
        },
        "id": "-cWbAgZdqDqX",
        "outputId": "a0a43e0e-67b5-4cf3-af99-ee48bb04e676"
      },
      "execution_count": 78,
      "outputs": [
        {
          "output_type": "stream",
          "name": "stdout",
          "text": [
            "[1 1 3 3]\n"
          ]
        },
        {
          "output_type": "execute_result",
          "data": {
            "text/plain": [
              "array([1, 3])"
            ]
          },
          "metadata": {},
          "execution_count": 78
        }
      ]
    },
    {
      "cell_type": "code",
      "source": [],
      "metadata": {
        "id": "sOa1lzeLqDs4"
      },
      "execution_count": null,
      "outputs": []
    },
    {
      "cell_type": "code",
      "source": [],
      "metadata": {
        "id": "kqm70cmKqDvM"
      },
      "execution_count": null,
      "outputs": []
    },
    {
      "cell_type": "markdown",
      "source": [
        "### `Q-6:` How to convert an array of arrays into a flat 1d array?\n"
      ],
      "metadata": {
        "id": "DSCQMo4mlnDG"
      }
    },
    {
      "cell_type": "code",
      "source": [
        "# These arrays are given.\n",
        "arr1 = np.arange(3)\n",
        "arr2 = np.arange(3,7)\n",
        "arr3 = np.arange(7,10)"
      ],
      "metadata": {
        "id": "QZhSkUT2lsJW"
      },
      "execution_count": null,
      "outputs": []
    },
    {
      "cell_type": "code",
      "source": [
        "arr1 = np.arange(3)\n",
        "arr2 = np.arange(3,7)\n",
        "arr3 = np.arange(7,10)"
      ],
      "metadata": {
        "id": "f42OXNrFls0I"
      },
      "execution_count": 60,
      "outputs": []
    },
    {
      "cell_type": "code",
      "source": [
        "arr3"
      ],
      "metadata": {
        "colab": {
          "base_uri": "https://localhost:8080/"
        },
        "id": "Ob-42o-doVVK",
        "outputId": "168f2f09-cd63-429b-a6c3-6914fd9d8c2e"
      },
      "execution_count": 61,
      "outputs": [
        {
          "output_type": "execute_result",
          "data": {
            "text/plain": [
              "array([7, 8, 9])"
            ]
          },
          "metadata": {},
          "execution_count": 61
        }
      ]
    },
    {
      "cell_type": "code",
      "source": [],
      "metadata": {
        "id": "m6-0hhHFoVX3"
      },
      "execution_count": null,
      "outputs": []
    },
    {
      "cell_type": "markdown",
      "source": [
        "### `Q-7:` You are given a array. You have to find the minimum and maximum array element and remove that from the array.\n",
        "\n",
        "```python\n",
        "import numpy as np\n",
        "\n",
        "np.random.seed(400)\n",
        "arr = np.random.randint(100, 1000, 200).reshape((1, 200))\n",
        "```"
      ],
      "metadata": {
        "id": "A1J4oOVCluqO"
      }
    },
    {
      "cell_type": "code",
      "source": [
        "# code here\n",
        "#seed()function initialize the random numbers"
      ],
      "metadata": {
        "id": "c6kmgtUJlybZ"
      },
      "execution_count": null,
      "outputs": []
    },
    {
      "cell_type": "code",
      "source": [
        "np.random.seed(400)\n",
        "arr = np.random.randint(100, 1000, 200).reshape((1, 200))\n",
        "arr"
      ],
      "metadata": {
        "colab": {
          "base_uri": "https://localhost:8080/"
        },
        "id": "BQeNCsvb02uy",
        "outputId": "c747835d-41bc-4536-a1ff-eee61f1a17c8"
      },
      "execution_count": 105,
      "outputs": [
        {
          "output_type": "execute_result",
          "data": {
            "text/plain": [
              "array([[448, 563, 418, 240, 507, 362, 345, 236, 719, 291, 298, 639, 458,\n",
              "        387, 262, 613, 267, 882, 181, 425, 790, 635, 889, 818, 872, 967,\n",
              "        277, 470, 336, 920, 917, 295, 557, 830, 506, 385, 353, 975, 592,\n",
              "        997, 137, 340, 222, 215, 472, 459, 617, 649, 935, 956, 914, 932,\n",
              "        645, 952, 921, 490, 527, 972, 278, 307, 840, 958, 246, 449, 251,\n",
              "        957, 103, 627, 920, 824, 356, 825, 173, 323, 372, 960, 710, 464,\n",
              "        244, 782, 763, 635, 436, 774, 171, 469, 178, 458, 624, 211, 771,\n",
              "        270, 308, 231, 952, 514, 699, 702, 433, 900, 373, 318, 998, 265,\n",
              "        503, 320, 230, 324, 922, 967, 620, 743, 527, 117, 566, 804, 123,\n",
              "        946, 587, 227, 853, 757, 944, 328, 855, 930, 325, 729, 426, 514,\n",
              "        296, 879, 575, 936, 705, 209, 191, 743, 510, 513, 628, 559, 658,\n",
              "        528, 395, 525, 922, 136, 496, 225, 895, 975, 263, 908, 420, 711,\n",
              "        800, 976, 786, 235, 930, 859, 618, 226, 695, 460, 218, 483, 490,\n",
              "        803, 621, 453, 193, 607, 677, 637, 728, 724, 534, 748, 291, 194,\n",
              "        761, 875, 687, 569, 228, 482, 781, 554, 654, 739, 885, 197, 266,\n",
              "        228, 892, 207, 883, 588]])"
            ]
          },
          "metadata": {},
          "execution_count": 105
        }
      ]
    },
    {
      "cell_type": "code",
      "source": [
        "np.unravel_index(np.argmax(arr), arr.shape)"
      ],
      "metadata": {
        "colab": {
          "base_uri": "https://localhost:8080/"
        },
        "id": "JUbfHpON8Vb_",
        "outputId": "f42a2e08-01cc-4fab-ecf5-781985eeefa3"
      },
      "execution_count": 115,
      "outputs": [
        {
          "output_type": "execute_result",
          "data": {
            "text/plain": [
              "(0, 39)"
            ]
          },
          "metadata": {},
          "execution_count": 115
        }
      ]
    },
    {
      "cell_type": "code",
      "source": [
        "max_index = np.unravel_index(np.argmax(arr), arr.shape)\n",
        "min_index = np.unravel_index(np.argmin(arr), arr.shape)"
      ],
      "metadata": {
        "id": "t1ZngICa6oLS"
      },
      "execution_count": 109,
      "outputs": []
    },
    {
      "cell_type": "code",
      "source": [
        "arr[max_index] = 0\n",
        "arr[min_index] = 0\n",
        "arr"
      ],
      "metadata": {
        "colab": {
          "base_uri": "https://localhost:8080/"
        },
        "id": "OxLDC3Iu2c86",
        "outputId": "e72e2fd9-36af-482f-d91b-90041a990cfb"
      },
      "execution_count": 111,
      "outputs": [
        {
          "output_type": "execute_result",
          "data": {
            "text/plain": [
              "array([[448, 563, 418, 240, 507, 362, 345, 236, 719, 291, 298, 639, 458,\n",
              "        387, 262, 613, 267, 882, 181, 425, 790, 635, 889, 818, 872, 967,\n",
              "        277, 470, 336, 920, 917, 295, 557, 830, 506, 385, 353, 975, 592,\n",
              "        997, 137, 340, 222, 215, 472, 459, 617, 649, 935, 956, 914, 932,\n",
              "        645, 952, 921, 490, 527, 972, 278, 307, 840, 958, 246, 449, 251,\n",
              "        957,   0, 627, 920, 824, 356, 825, 173, 323, 372, 960, 710, 464,\n",
              "        244, 782, 763, 635, 436, 774, 171, 469, 178, 458, 624, 211, 771,\n",
              "        270, 308, 231, 952, 514, 699, 702, 433, 900, 373, 318,   0, 265,\n",
              "        503, 320, 230, 324, 922, 967, 620, 743, 527, 117, 566, 804, 123,\n",
              "        946, 587, 227, 853, 757, 944, 328, 855, 930, 325, 729, 426, 514,\n",
              "        296, 879, 575, 936, 705, 209, 191, 743, 510, 513, 628, 559, 658,\n",
              "        528, 395, 525, 922, 136, 496, 225, 895, 975, 263, 908, 420, 711,\n",
              "        800, 976, 786, 235, 930, 859, 618, 226, 695, 460, 218, 483, 490,\n",
              "        803, 621, 453, 193, 607, 677, 637, 728, 724, 534, 748, 291, 194,\n",
              "        761, 875, 687, 569, 228, 482, 781, 554, 654, 739, 885, 197, 266,\n",
              "        228, 892, 207, 883, 588]])"
            ]
          },
          "metadata": {},
          "execution_count": 111
        }
      ]
    },
    {
      "cell_type": "code",
      "source": [],
      "metadata": {
        "id": "JZNV1zr-2c_p"
      },
      "execution_count": null,
      "outputs": []
    },
    {
      "cell_type": "markdown",
      "source": [
        "### `Q-8:` You are given an arrays. You have to limit this array's elements between 100 to 200. $arr ∈ [100, 700]$. So replace those values accordingly with the minimum and maximum value. Then sort the array and perform the cumulative sum of that array."
      ],
      "metadata": {
        "id": "0dHN1sdnl0Jy"
      }
    },
    {
      "cell_type": "code",
      "source": [],
      "metadata": {
        "id": "SfEfFQIfBZ7s"
      },
      "execution_count": null,
      "outputs": []
    },
    {
      "cell_type": "markdown",
      "source": [
        "np.clip(arr, 100, 200) ensures that all values in arr are limited to the range [100, 200].\n",
        "\n",
        "-> Values less than 100 are replaced with 100.\n",
        "\n",
        "-> Values greater than 200 are replaced with 200.\n",
        "\n",
        "-> The original array arr remains unchanged, and arr_clipped contains the values after clipping."
      ],
      "metadata": {
        "id": "HgttlRR8BHbv"
      }
    },
    {
      "cell_type": "code",
      "source": [
        "m = np.random.randint(0,1000,200)\n",
        "m"
      ],
      "metadata": {
        "id": "a3YF_E-Hlza7",
        "colab": {
          "base_uri": "https://localhost:8080/"
        },
        "outputId": "ab99d08e-6092-45d5-9400-11e90604175a"
      },
      "execution_count": 121,
      "outputs": [
        {
          "output_type": "execute_result",
          "data": {
            "text/plain": [
              "array([606, 793, 711,   2, 462, 917, 341, 814, 696, 316,  21, 240, 540,\n",
              "        37, 720, 647, 915, 559, 179,  64, 795, 141, 406, 379, 459, 965,\n",
              "       308, 143, 143, 870, 644,  97, 365, 295, 974, 628, 287, 637, 360,\n",
              "       776,  87, 278,  65, 673, 555, 645, 152, 589, 640, 934,  51, 900,\n",
              "       409, 216, 188, 565,  48, 190, 410, 885, 767, 520, 163, 355, 371,\n",
              "       998, 234, 371, 617, 498, 881, 300, 201, 429, 262, 683, 807, 408,\n",
              "       172, 613, 563, 753, 469, 199, 879, 364, 456, 939, 292, 958, 601,\n",
              "        89, 975, 413, 955, 447,  16,  42, 636, 220,  93, 858, 598, 989,\n",
              "       642, 437, 364, 124, 226, 761, 163, 212, 264, 748, 153, 488, 787,\n",
              "        57, 368, 376, 722, 606, 179, 303, 570, 279, 543, 271, 636, 408,\n",
              "       641, 212, 150, 978,  76, 404, 201, 307, 555, 540, 186, 666, 178,\n",
              "       216, 434, 876, 227, 248, 740, 143, 967, 805, 565, 347, 291,  71,\n",
              "       394, 107, 176, 369, 936, 859, 612, 721, 574, 402, 176, 234, 751,\n",
              "        42, 855,  50, 127, 792, 221, 485, 145, 468, 252, 989, 525, 282,\n",
              "       179, 998, 457, 975, 825, 227, 590, 685, 896, 422, 711, 272,   7,\n",
              "       453, 668, 902, 158, 564])"
            ]
          },
          "metadata": {},
          "execution_count": 121
        }
      ]
    },
    {
      "cell_type": "code",
      "source": [
        "cliped = np.clip(arr,100,200)\n",
        "cliped"
      ],
      "metadata": {
        "colab": {
          "base_uri": "https://localhost:8080/"
        },
        "id": "UKsG8Pjv-1ru",
        "outputId": "30575c4c-806e-4c1e-9423-3db6136e863d"
      },
      "execution_count": 127,
      "outputs": [
        {
          "output_type": "execute_result",
          "data": {
            "text/plain": [
              "array([[200, 200, 200, 200, 200, 200, 200, 200, 200, 200, 200, 200, 200,\n",
              "        200, 200, 200, 200, 200, 181, 200, 200, 200, 200, 200, 200, 200,\n",
              "        200, 200, 200, 200, 200, 200, 200, 200, 200, 200, 200, 200, 200,\n",
              "        200, 137, 200, 200, 200, 200, 200, 200, 200, 200, 200, 200, 200,\n",
              "        200, 200, 200, 200, 200, 200, 200, 200, 200, 200, 200, 200, 200,\n",
              "        200, 100, 200, 200, 200, 200, 200, 173, 200, 200, 200, 200, 200,\n",
              "        200, 200, 200, 200, 200, 200, 171, 200, 178, 200, 200, 200, 200,\n",
              "        200, 200, 200, 200, 200, 200, 200, 200, 200, 200, 200, 100, 200,\n",
              "        200, 200, 200, 200, 200, 200, 200, 200, 200, 117, 200, 200, 123,\n",
              "        200, 200, 200, 200, 200, 200, 200, 200, 200, 200, 200, 200, 200,\n",
              "        200, 200, 200, 200, 200, 200, 191, 200, 200, 200, 200, 200, 200,\n",
              "        200, 200, 200, 200, 136, 200, 200, 200, 200, 200, 200, 200, 200,\n",
              "        200, 200, 200, 200, 200, 200, 200, 200, 200, 200, 200, 200, 200,\n",
              "        200, 200, 200, 193, 200, 200, 200, 200, 200, 200, 200, 200, 194,\n",
              "        200, 200, 200, 200, 200, 200, 200, 200, 200, 200, 200, 197, 200,\n",
              "        200, 200, 200, 200, 200]])"
            ]
          },
          "metadata": {},
          "execution_count": 127
        }
      ]
    },
    {
      "cell_type": "code",
      "source": [
        "np.cumsum(np.sort(cliped))"
      ],
      "metadata": {
        "colab": {
          "base_uri": "https://localhost:8080/"
        },
        "id": "tijHthOK-1up",
        "outputId": "4e2c1515-1860-4d31-e953-1b110c3ac300"
      },
      "execution_count": 129,
      "outputs": [
        {
          "output_type": "execute_result",
          "data": {
            "text/plain": [
              "array([  100,   200,   317,   440,   576,   713,   884,  1057,  1235,\n",
              "        1416,  1607,  1800,  1994,  2191,  2391,  2591,  2791,  2991,\n",
              "        3191,  3391,  3591,  3791,  3991,  4191,  4391,  4591,  4791,\n",
              "        4991,  5191,  5391,  5591,  5791,  5991,  6191,  6391,  6591,\n",
              "        6791,  6991,  7191,  7391,  7591,  7791,  7991,  8191,  8391,\n",
              "        8591,  8791,  8991,  9191,  9391,  9591,  9791,  9991, 10191,\n",
              "       10391, 10591, 10791, 10991, 11191, 11391, 11591, 11791, 11991,\n",
              "       12191, 12391, 12591, 12791, 12991, 13191, 13391, 13591, 13791,\n",
              "       13991, 14191, 14391, 14591, 14791, 14991, 15191, 15391, 15591,\n",
              "       15791, 15991, 16191, 16391, 16591, 16791, 16991, 17191, 17391,\n",
              "       17591, 17791, 17991, 18191, 18391, 18591, 18791, 18991, 19191,\n",
              "       19391, 19591, 19791, 19991, 20191, 20391, 20591, 20791, 20991,\n",
              "       21191, 21391, 21591, 21791, 21991, 22191, 22391, 22591, 22791,\n",
              "       22991, 23191, 23391, 23591, 23791, 23991, 24191, 24391, 24591,\n",
              "       24791, 24991, 25191, 25391, 25591, 25791, 25991, 26191, 26391,\n",
              "       26591, 26791, 26991, 27191, 27391, 27591, 27791, 27991, 28191,\n",
              "       28391, 28591, 28791, 28991, 29191, 29391, 29591, 29791, 29991,\n",
              "       30191, 30391, 30591, 30791, 30991, 31191, 31391, 31591, 31791,\n",
              "       31991, 32191, 32391, 32591, 32791, 32991, 33191, 33391, 33591,\n",
              "       33791, 33991, 34191, 34391, 34591, 34791, 34991, 35191, 35391,\n",
              "       35591, 35791, 35991, 36191, 36391, 36591, 36791, 36991, 37191,\n",
              "       37391, 37591, 37791, 37991, 38191, 38391, 38591, 38791, 38991,\n",
              "       39191, 39391])"
            ]
          },
          "metadata": {},
          "execution_count": 129
        }
      ]
    },
    {
      "cell_type": "code",
      "source": [],
      "metadata": {
        "id": "whYXJB4U-1xe"
      },
      "execution_count": null,
      "outputs": []
    },
    {
      "cell_type": "markdown",
      "source": [
        "### `Q-9:` You are given a array ($arr ∈ [0, 1]$). First you have round off the elements upto 3 decimal places and compare that\n",
        "- 0th percentile == minimum value of the array\n",
        "- 100th percentile == maximum value of the array\n",
        "- also find the difference betwen 51th percenile and 50th percentile values"
      ],
      "metadata": {
        "id": "cXj90Susl4-I"
      }
    },
    {
      "cell_type": "code",
      "source": [
        "m = np.random.random(100)\n",
        "m"
      ],
      "metadata": {
        "id": "SgBEHodgl7Lo",
        "colab": {
          "base_uri": "https://localhost:8080/"
        },
        "outputId": "4a9b5342-741d-442b-fa99-db7d65ce9113"
      },
      "execution_count": 131,
      "outputs": [
        {
          "output_type": "execute_result",
          "data": {
            "text/plain": [
              "array([0.59597461, 0.50070378, 0.74705818, 0.0957757 , 0.5925761 ,\n",
              "       0.2283685 , 0.2840345 , 0.24061098, 0.41810516, 0.73831769,\n",
              "       0.58997126, 0.79810743, 0.07951406, 0.46820052, 0.72700456,\n",
              "       0.49052174, 0.31671761, 0.89496505, 0.10071009, 0.47315385,\n",
              "       0.96389312, 0.27643703, 0.8503004 , 0.90104781, 0.39160194,\n",
              "       0.83970974, 0.08983296, 0.67108208, 0.58553665, 0.35540109,\n",
              "       0.60388336, 0.56247426, 0.94797428, 0.69219221, 0.46578484,\n",
              "       0.37896912, 0.68611971, 0.7091585 , 0.23044348, 0.26957899,\n",
              "       0.56314008, 0.9272328 , 0.31425778, 0.67149788, 0.80506766,\n",
              "       0.88011676, 0.70666911, 0.26856021, 0.92263385, 0.22168888,\n",
              "       0.95453407, 0.87014134, 0.48221985, 0.67794082, 0.57813679,\n",
              "       0.67593511, 0.41017615, 0.31817756, 0.85240565, 0.45971054,\n",
              "       0.6968306 , 0.49544442, 0.86938841, 0.84298395, 0.91549651,\n",
              "       0.46405699, 0.71559042, 0.82374031, 0.19347073, 0.56310294,\n",
              "       0.51612603, 0.40504472, 0.35524841, 0.47257587, 0.82606975,\n",
              "       0.25233966, 0.48364706, 0.13983545, 0.72857928, 0.31842226,\n",
              "       0.65611135, 0.63294657, 0.03328225, 0.09449503, 0.25802346,\n",
              "       0.42316946, 0.77909297, 0.5930105 , 0.55276316, 0.07150662,\n",
              "       0.73566646, 0.49206156, 0.37982407, 0.30982048, 0.09348804,\n",
              "       0.22760157, 0.19753619, 0.92665334, 0.42350542, 0.08582836])"
            ]
          },
          "metadata": {},
          "execution_count": 131
        }
      ]
    },
    {
      "cell_type": "code",
      "source": [
        "r =m.round(3)\n",
        "r"
      ],
      "metadata": {
        "colab": {
          "base_uri": "https://localhost:8080/"
        },
        "id": "1bIUez3CDoyG",
        "outputId": "34752425-d3a5-427b-e144-b42f0a354ea5"
      },
      "execution_count": 135,
      "outputs": [
        {
          "output_type": "execute_result",
          "data": {
            "text/plain": [
              "array([0.596, 0.501, 0.747, 0.096, 0.593, 0.228, 0.284, 0.241, 0.418,\n",
              "       0.738, 0.59 , 0.798, 0.08 , 0.468, 0.727, 0.491, 0.317, 0.895,\n",
              "       0.101, 0.473, 0.964, 0.276, 0.85 , 0.901, 0.392, 0.84 , 0.09 ,\n",
              "       0.671, 0.586, 0.355, 0.604, 0.562, 0.948, 0.692, 0.466, 0.379,\n",
              "       0.686, 0.709, 0.23 , 0.27 , 0.563, 0.927, 0.314, 0.671, 0.805,\n",
              "       0.88 , 0.707, 0.269, 0.923, 0.222, 0.955, 0.87 , 0.482, 0.678,\n",
              "       0.578, 0.676, 0.41 , 0.318, 0.852, 0.46 , 0.697, 0.495, 0.869,\n",
              "       0.843, 0.915, 0.464, 0.716, 0.824, 0.193, 0.563, 0.516, 0.405,\n",
              "       0.355, 0.473, 0.826, 0.252, 0.484, 0.14 , 0.729, 0.318, 0.656,\n",
              "       0.633, 0.033, 0.094, 0.258, 0.423, 0.779, 0.593, 0.553, 0.072,\n",
              "       0.736, 0.492, 0.38 , 0.31 , 0.093, 0.228, 0.198, 0.927, 0.424,\n",
              "       0.086])"
            ]
          },
          "metadata": {},
          "execution_count": 135
        }
      ]
    },
    {
      "cell_type": "code",
      "source": [
        "np.percentile(r,0)"
      ],
      "metadata": {
        "colab": {
          "base_uri": "https://localhost:8080/"
        },
        "id": "RNJ2CQ5jDo0m",
        "outputId": "b5ab9b90-4b6a-41fc-9aca-6afec389efaa"
      },
      "execution_count": 136,
      "outputs": [
        {
          "output_type": "execute_result",
          "data": {
            "text/plain": [
              "0.033"
            ]
          },
          "metadata": {},
          "execution_count": 136
        }
      ]
    },
    {
      "cell_type": "code",
      "source": [
        "np.percentile(r,100)"
      ],
      "metadata": {
        "colab": {
          "base_uri": "https://localhost:8080/"
        },
        "id": "DiL1LcOzDo26",
        "outputId": "a74e8778-f37a-4494-e0c9-58369aa935a1"
      },
      "execution_count": 138,
      "outputs": [
        {
          "output_type": "execute_result",
          "data": {
            "text/plain": [
              "0.964"
            ]
          },
          "metadata": {},
          "execution_count": 138
        }
      ]
    },
    {
      "cell_type": "code",
      "source": [
        "difference= np.percentile(r,51)-np.percentile(r,50)\n",
        "difference"
      ],
      "metadata": {
        "colab": {
          "base_uri": "https://localhost:8080/"
        },
        "id": "5djczL3IEQgL",
        "outputId": "435a6201-d73c-446d-a884-626092f87068"
      },
      "execution_count": 140,
      "outputs": [
        {
          "output_type": "execute_result",
          "data": {
            "text/plain": [
              "0.025630000000000153"
            ]
          },
          "metadata": {},
          "execution_count": 140
        }
      ]
    },
    {
      "cell_type": "code",
      "source": [],
      "metadata": {
        "id": "4Jv4k-bOEQit"
      },
      "execution_count": null,
      "outputs": []
    },
    {
      "cell_type": "code",
      "source": [],
      "metadata": {
        "id": "-YMYBIASEQk5"
      },
      "execution_count": null,
      "outputs": []
    }
  ]
}